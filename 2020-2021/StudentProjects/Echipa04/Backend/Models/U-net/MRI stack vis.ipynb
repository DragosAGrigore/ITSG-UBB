{
 "cells": [
  {
   "cell_type": "code",
   "execution_count": 1,
   "metadata": {},
   "outputs": [],
   "source": [
    "import os\n",
    "from pydicom import dcmread\n",
    "from pydicom.data import get_testdata_file\n",
    "import plotly.express as px\n",
    "from plotly.subplots import make_subplots\n",
    "import plotly.graph_objects as go\n",
    "import numpy as np"
   ]
  },
  {
   "cell_type": "code",
   "execution_count": 2,
   "metadata": {},
   "outputs": [],
   "source": [
    "def getAllMRI(dirName):\n",
    "    mri_list = os.listdir(dirName)\n",
    "    all_MRI = []\n",
    "    for file in mri_list:\n",
    "        full_path = os.path.join(dirName, file)\n",
    "        if os.path.isdir(full_path):\n",
    "            all_MRI = all_MRI + getAllMRI(full_path)\n",
    "        else:\n",
    "            all_MRI.append(full_path)\n",
    "                \n",
    "    return all_MRI\n",
    "\n",
    "mri_files = getAllMRI('PROSTATE-MRI/MIP-PROSTATE-01-0001/04-30-2006-MRI Prostate ERC-40831/701.000000-T2 TSE ax hi-65190')"
   ]
  },
  {
   "cell_type": "code",
   "execution_count": 3,
   "metadata": {
    "scrolled": false
   },
   "outputs": [],
   "source": [
    "ds = dcmread(mri_files[0])\n",
    "#px.imshow(ds.pixel_array, color_continuous_scale='gray')"
   ]
  },
  {
   "cell_type": "code",
   "execution_count": 4,
   "metadata": {},
   "outputs": [],
   "source": [
    "volume = []\n",
    "for mri in mri_files:\n",
    "    mri_img = dcmread(mri)\n",
    "    volume.append(mri_img.pixel_array)\n",
    "volume = np.array(volume)"
   ]
  },
  {
   "cell_type": "code",
   "execution_count": 5,
   "metadata": {},
   "outputs": [],
   "source": [
    "r, c = volume[0].shape\n",
    "\n",
    "nb_frames = len(mri_files)\n",
    "\n",
    "fig = go.Figure(\n",
    "    frames = [\n",
    "        go.Frame(\n",
    "            data = go.Surface(\n",
    "                z = (6.7 - k * 0.1) * np.ones((r, c)),\n",
    "                surfacecolor=np.flipud(volume[len(mri_files) - 1 - k]),\n",
    "                cmin=0, cmax=200\n",
    "            ),\n",
    "            name = str(k)\n",
    "        )\n",
    "        for k in range(nb_frames)\n",
    "    ]\n",
    ")\n",
    "fig.add_trace(\n",
    "    go.Surface(\n",
    "        z = 6.7 * np.ones((r, c)),\n",
    "        surfacecolor = np.flipud(volume[17]),\n",
    "        colorscale = 'Gray',\n",
    "        cmin = 0, cmax = 200,\n",
    "        colorbar = dict(thickness = 20, ticklen = 4)\n",
    "    )\n",
    ")\n",
    "pass"
   ]
  },
  {
   "cell_type": "code",
   "execution_count": null,
   "metadata": {
    "scrolled": false
   },
   "outputs": [],
   "source": [
    "def frame_args(duration):\n",
    "    return {\n",
    "            \"frame\": {\"duration\": duration},\n",
    "            \"mode\": \"immediate\",\n",
    "            \"fromcurrent\": True,\n",
    "            \"transition\": {\"duration\": duration, \"easing\": \"linear\"},\n",
    "        }\n",
    "\n",
    "sliders = [\n",
    "            {\n",
    "                \"pad\": {\"b\": 10, \"t\": 60},\n",
    "                \"len\": 0.9,\n",
    "                \"x\": 0.1,\n",
    "                \"y\": 0,\n",
    "                \"steps\": [\n",
    "                    {\n",
    "                        \"args\": [[f.name], frame_args(0)],\n",
    "                        \"label\": str(k),\n",
    "                        \"method\": \"animate\",\n",
    "                    }\n",
    "                    for k, f in enumerate(fig.frames)\n",
    "                ],\n",
    "            }\n",
    "        ]\n",
    "\n",
    "# Layout\n",
    "fig.update_layout(\n",
    "         title='Slices in volumetric data',\n",
    "         width=1024,\n",
    "         height=1280,\n",
    "         scene=dict(\n",
    "                    zaxis=dict(range=[-0.1, 6.8], autorange=False),\n",
    "                    aspectratio=dict(x=1, y=1, z=1),\n",
    "                    ),\n",
    "         updatemenus = [\n",
    "            {\n",
    "                \"buttons\": [\n",
    "                    {\n",
    "                        \"args\": [None, frame_args(50)],\n",
    "                        \"label\": \"&#9654;\", # play symbol\n",
    "                        \"method\": \"animate\",\n",
    "                    },\n",
    "                    {\n",
    "                        \"args\": [[None], frame_args(0)],\n",
    "                        \"label\": \"&#9724;\", # pause symbol\n",
    "                        \"method\": \"animate\",\n",
    "                    },\n",
    "                ],\n",
    "                \"direction\": \"left\",\n",
    "                \"pad\": {\"r\": 10, \"t\": 70},\n",
    "                \"type\": \"buttons\",\n",
    "                \"x\": 0.1,\n",
    "                \"y\": 0,\n",
    "            }\n",
    "         ],\n",
    "         sliders=sliders\n",
    ")\n",
    "\n",
    "#fig.show()"
   ]
  },
  {
   "cell_type": "code",
   "execution_count": null,
   "metadata": {},
   "outputs": [],
   "source": []
  }
 ],
 "metadata": {
  "kernelspec": {
   "display_name": "Python 3",
   "language": "python",
   "name": "python3"
  },
  "language_info": {
   "codemirror_mode": {
    "name": "ipython",
    "version": 3
   },
   "file_extension": ".py",
   "mimetype": "text/x-python",
   "name": "python",
   "nbconvert_exporter": "python",
   "pygments_lexer": "ipython3",
   "version": "3.8.6"
  }
 },
 "nbformat": 4,
 "nbformat_minor": 4
}
